{
 "metadata": {
  "language_info": {
   "codemirror_mode": {
    "name": "ipython",
    "version": 3
   },
   "file_extension": ".py",
   "mimetype": "text/x-python",
   "name": "python",
   "nbconvert_exporter": "python",
   "pygments_lexer": "ipython3",
   "version": "3.9.2"
  },
  "orig_nbformat": 4,
  "kernelspec": {
   "name": "python3",
   "display_name": "Python 3.9.2 64-bit"
  },
  "interpreter": {
   "hash": "aee8b7b246df8f9039afb4144a1f6fd8d2ca17a180786b69acc140d282b71a49"
  }
 },
 "nbformat": 4,
 "nbformat_minor": 2,
 "cells": [
  {
   "source": [
    "# Revisão"
   ],
   "cell_type": "markdown",
   "metadata": {}
  },
  {
   "cell_type": "code",
   "execution_count": 1,
   "metadata": {},
   "outputs": [
    {
     "output_type": "stream",
     "name": "stdout",
     "text": [
      "5\n4\n3\n2\n1\nDecolar! ✈️\n"
     ]
    }
   ],
   "source": [
    "for i in [5,4,3,2,1]:\n",
    "    print(i)\n",
    "print(\"Decolar! ✈️\")"
   ]
  },
  {
   "cell_type": "code",
   "execution_count": 2,
   "metadata": {},
   "outputs": [
    {
     "output_type": "stream",
     "name": "stdout",
     "text": [
      "Bom dia Joseph\nBom dia Glenn\nBom dia Sally\n"
     ]
    }
   ],
   "source": [
    "amigos = ['Joseph','Glenn','Sally']\n",
    "for amigo in amigos :\n",
    "    print(\"Bom dia\",amigo)"
   ]
  },
  {
   "cell_type": "code",
   "execution_count": 3,
   "metadata": {},
   "outputs": [
    {
     "output_type": "stream",
     "name": "stdout",
     "text": [
      "O maior valor é 40\n"
     ]
    }
   ],
   "source": [
    "# qual o maior número?\n",
    "numeros = [21,23,22,10,27,18,40,29,33,35,9,11,32,39]\n",
    "maior_numero = -1\n",
    "for numero in numeros:\n",
    "    if numero > maior_numero:\n",
    "        maior_numero = numero\n",
    "print(\"O maior valor é\",maior_numero)"
   ]
  },
  {
   "cell_type": "code",
   "execution_count": 4,
   "metadata": {},
   "outputs": [
    {
     "output_type": "stream",
     "name": "stdout",
     "text": [
      "\"o1\" é uma String\n"
     ]
    }
   ],
   "source": [
    "# existe algum dado não do tipo string?\n",
    "numeros = [21,23,22,'o1',10,27,18,40,29,33,35,9,11,32,39]\n",
    "for numero in numeros:\n",
    "    if type(numero) is str:\n",
    "        print('\"'+numero+'\" é uma String')"
   ]
  },
  {
   "source": [
    "# Ciclo de ML\n",
    "1. Importar dado\n",
    "2. Limpar dados\n",
    "3. Dividir dados para Treino e Previsão\n",
    "4. Criar modelo\n",
    "5. Treinar Modelo\n",
    "6. Fazer previsões\n",
    "7. Validar acurácia"
   ],
   "cell_type": "markdown",
   "metadata": {}
  },
  {
   "cell_type": "code",
   "execution_count": 125,
   "metadata": {},
   "outputs": [],
   "source": [
    "import pandas as pd\n",
    "from sklearn.tree import DecisionTreeClassifier\n",
    "from sklearn.model_selection import train_test_split\n",
    "from sklearn.metrics import accuracy_score\n",
    "import joblib"
   ]
  },
  {
   "cell_type": "code",
   "execution_count": 126,
   "metadata": {},
   "outputs": [
    {
     "output_type": "stream",
     "name": "stdout",
     "text": [
      "age        int64\ngender     int64\ngenre     object\ndtype: object\n-----\n             age     gender\ncount  18.000000  18.000000\nmean   27.944444   0.500000\nstd     5.127460   0.514496\nmin    20.000000   0.000000\n25%    25.000000   0.000000\n50%    28.000000   0.500000\n75%    31.000000   1.000000\nmax    37.000000   1.000000\n"
     ]
    }
   ],
   "source": [
    "arquivo = \"./music.csv\"\n",
    "music = pd.read_csv(arquivo)\n",
    "print(music.dtypes)\n",
    "print(\"-----\")\n",
    "print(music.describe())"
   ]
  },
  {
   "cell_type": "code",
   "execution_count": 127,
   "metadata": {},
   "outputs": [],
   "source": [
    "# Separar entrada e saídas\n",
    "X = music.drop(columns=['genre'])\n",
    "Y = music['genre']"
   ]
  },
  {
   "cell_type": "code",
   "execution_count": 128,
   "metadata": {},
   "outputs": [],
   "source": [
    "# Escolher modelo ideal\n",
    "model = DecisionTreeClassifier()"
   ]
  },
  {
   "cell_type": "code",
   "execution_count": 129,
   "metadata": {},
   "outputs": [
    {
     "output_type": "execute_result",
     "data": {
      "text/plain": [
       "DecisionTreeClassifier()"
      ]
     },
     "metadata": {},
     "execution_count": 129
    }
   ],
   "source": [
    "# Treinar o modelo\n",
    "model.fit(X,Y)"
   ]
  },
  {
   "cell_type": "code",
   "execution_count": 130,
   "metadata": {},
   "outputs": [
    {
     "output_type": "execute_result",
     "data": {
      "text/plain": [
       "array(['HipHop', 'Classical'], dtype=object)"
      ]
     },
     "metadata": {},
     "execution_count": 130
    }
   ],
   "source": [
    "# Predição\n",
    "predicao = model.predict([[21,1],[32,0]])\n",
    "predicao"
   ]
  },
  {
   "cell_type": "code",
   "execution_count": 131,
   "metadata": {},
   "outputs": [],
   "source": [
    "# Medir acurária\n",
    "X_train, X_test, Y_train, Y_test = train_test_split(X,Y, test_size=.2)"
   ]
  },
  {
   "cell_type": "code",
   "execution_count": 132,
   "metadata": {},
   "outputs": [
    {
     "output_type": "execute_result",
     "data": {
      "text/plain": [
       "array(['Classical', 'Dance', 'Classical', 'HipHop'], dtype=object)"
      ]
     },
     "metadata": {},
     "execution_count": 132
    }
   ],
   "source": [
    "# Retreinar modelo\n",
    "model = DecisionTreeClassifier()\n",
    "model.fit(X_train,Y_train)\n",
    "prova = model.predict(X_test)\n",
    "\n",
    "# result = X_test\n",
    "# result['genre_predict']=prova\n",
    "# result\n",
    "prova"
   ]
  },
  {
   "cell_type": "code",
   "execution_count": 133,
   "metadata": {},
   "outputs": [
    {
     "output_type": "execute_result",
     "data": {
      "text/plain": [
       "1.0"
      ]
     },
     "metadata": {},
     "execution_count": 133
    }
   ],
   "source": [
    "# Avaliar a prova\n",
    "score = accuracy_score(Y_test,prova)\n",
    "score"
   ]
  },
  {
   "cell_type": "code",
   "execution_count": 134,
   "metadata": {},
   "outputs": [
    {
     "output_type": "execute_result",
     "data": {
      "text/plain": [
       "['recomenda-musica.joblib']"
      ]
     },
     "metadata": {},
     "execution_count": 134
    }
   ],
   "source": [
    "# Percistir um modelo (tranformar em arquivo)\n",
    "joblib.dump(model, 'recomenda-musica.joblib')"
   ]
  },
  {
   "cell_type": "code",
   "execution_count": 137,
   "metadata": {},
   "outputs": [
    {
     "output_type": "execute_result",
     "data": {
      "text/plain": [
       "array(['HipHop', 'Classical'], dtype=object)"
      ]
     },
     "metadata": {},
     "execution_count": 137
    }
   ],
   "source": [
    "# usar modelo persistido - inferência\n",
    "load_model = joblib.load(\"recomenda-musica.joblib\")\n",
    "predict = load_model.predict([[21,1],[32,0]])\n",
    "predict"
   ]
  },
  {
   "cell_type": "code",
   "execution_count": null,
   "metadata": {},
   "outputs": [],
   "source": []
  }
 ]
}