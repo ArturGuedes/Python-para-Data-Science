{
 "metadata": {
  "language_info": {
   "codemirror_mode": {
    "name": "ipython",
    "version": 3
   },
   "file_extension": ".py",
   "mimetype": "text/x-python",
   "name": "python",
   "nbconvert_exporter": "python",
   "pygments_lexer": "ipython3",
   "version": "3.9.2"
  },
  "orig_nbformat": 4,
  "kernelspec": {
   "name": "python3",
   "display_name": "Python 3.9.2 64-bit"
  },
  "interpreter": {
   "hash": "aee8b7b246df8f9039afb4144a1f6fd8d2ca17a180786b69acc140d282b71a49"
  }
 },
 "nbformat": 4,
 "nbformat_minor": 2,
 "cells": [
  {
   "source": [
    "# Revisão"
   ],
   "cell_type": "markdown",
   "metadata": {}
  },
  {
   "cell_type": "code",
   "execution_count": 2,
   "metadata": {},
   "outputs": [
    {
     "output_type": "stream",
     "name": "stdout",
     "text": [
      "5\n4\n3\n2\n1\nDecolar!\n"
     ]
    }
   ],
   "source": [
    "for i in [5,4,3,2,1]:\n",
    "    print(i)\n",
    "print(\"Decolar!\")"
   ]
  },
  {
   "cell_type": "code",
   "execution_count": 6,
   "metadata": {},
   "outputs": [
    {
     "output_type": "stream",
     "name": "stdout",
     "text": [
      "Bom dia Joseph\nBom dia Glenn\nBom dia Sally\n"
     ]
    }
   ],
   "source": [
    "amigos = ['Joseph','Glenn','Sally']\n",
    "for amigo in amigos :\n",
    "    print(\"Bom dia\",amigo)"
   ]
  },
  {
   "cell_type": "code",
   "execution_count": 7,
   "metadata": {},
   "outputs": [
    {
     "output_type": "stream",
     "name": "stdout",
     "text": [
      "O maior valor é 40\n"
     ]
    }
   ],
   "source": [
    "# qual o maior número?\n",
    "numeros = [21,23,22,10,27,18,40,29,33,35,9,11,32,39]\n",
    "maior_numero = -1\n",
    "for numero in numeros:\n",
    "    if numero > maior_numero:\n",
    "        maior_numero = numero\n",
    "print(\"O maior valor é\",maior_numero)"
   ]
  },
  {
   "cell_type": "code",
   "execution_count": 12,
   "metadata": {},
   "outputs": [
    {
     "output_type": "stream",
     "name": "stdout",
     "text": [
      "\"o1\" é uma String\n"
     ]
    }
   ],
   "source": [
    "# existe algum dado não do tipo string?\n",
    "numeros = [21,23,22,'o1',10,27,18,40,29,33,35,9,11,32,39]\n",
    "for numero in numeros:\n",
    "    if type(numero) is str:\n",
    "        print('\"'+numero+'\" é uma String')"
   ]
  },
  {
   "cell_type": "code",
   "execution_count": null,
   "metadata": {},
   "outputs": [],
   "source": []
  }
 ]
}